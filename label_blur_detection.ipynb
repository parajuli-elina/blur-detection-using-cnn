{
 "cells": [
  {
   "cell_type": "markdown",
   "id": "af49c3db",
   "metadata": {
    "papermill": {
     "duration": 0.010304,
     "end_time": "2023-11-23T04:55:17.342115",
     "exception": false,
     "start_time": "2023-11-23T04:55:17.331811",
     "status": "completed"
    },
    "tags": []
   },
   "source": [
    "<div style=\"padding: 4px;\n",
    "            padding-left: 7px;\n",
    "           display:fill;\n",
    "           border-radius:20px;\n",
    "           background-color:pink;\n",
    "           font-size:250%;\n",
    "           font-family: Calibri;\n",
    "           color:black;\n",
    "           text-shadow: 1px 1px 2px black;\n",
    "           box-shadow:1px 1px 10px 7px gray;\n",
    "           letter-spacing:0.5px;\n",
    "            margin: 15px 15px 15px 15px\"><h1>Label Blur Detection usinG CNN</h1></div> "
   ]
  },
  {
   "cell_type": "markdown",
   "id": "5f157283",
   "metadata": {
    "papermill": {
     "duration": 0.008677,
     "end_time": "2023-11-23T04:55:17.359947",
     "exception": false,
     "start_time": "2023-11-23T04:55:17.351270",
     "status": "completed"
    },
    "tags": []
   },
   "source": [
    "<div style='padding: 4px;\n",
    "            padding-left: 7px;\n",
    "           display:fill;\n",
    "           border-radius:20px;\n",
    "           background-color:white;\n",
    "           font-size:200%;\n",
    "           font-family: Calibri;\n",
    "           color:black;\n",
    "           text-shadow: 1px 1px 2px black;\n",
    "           box-shadow: 10px 7px 4.5px gray;\n",
    "           letter-spacing:0.5px;margin: 15px 15px 15px 15px'><h2>📚 1. Imports</h2></div>"
   ]
  },
  {
   "cell_type": "code",
   "execution_count": null,
   "id": "6ff92010",
   "metadata": {
    "execution": {
     "iopub.execute_input": "2023-11-23T04:55:17.380978Z",
     "iopub.status.busy": "2023-11-23T04:55:17.380072Z",
     "iopub.status.idle": "2023-11-23T04:55:28.318099Z",
     "shell.execute_reply": "2023-11-23T04:55:28.316629Z"
    },
    "papermill": {
     "duration": 10.95261,
     "end_time": "2023-11-23T04:55:28.321527",
     "exception": false,
     "start_time": "2023-11-23T04:55:17.368917",
     "status": "completed"
    },
    "tags": []
   },
   "outputs": [],
   "source": [
    "# system library\n",
    "import os\n",
    "\n",
    "# math and tables\n",
    "import pandas as pd\n",
    "import numpy as np\n",
    "\n",
    "# for model building\n",
    "import tensorflow as tf\n",
    "from tensorflow.keras.callbacks import ModelCheckpoint\n",
    "\n",
    "# visualization libraries\n",
    "import cv2\n",
    "import matplotlib.pyplot as plt\n",
    "\n",
    "# some utils\n",
    "from sklearn.model_selection import train_test_split\n",
    "from random import randint"
   ]
  },
  {
   "cell_type": "markdown",
   "id": "d76d3706",
   "metadata": {
    "papermill": {
     "duration": 0.008738,
     "end_time": "2023-11-23T04:55:28.342405",
     "exception": false,
     "start_time": "2023-11-23T04:55:28.333667",
     "status": "completed"
    },
    "tags": []
   },
   "source": [
    "<div style='padding: 4px;\n",
    "            padding-left: 7px;\n",
    "           display:fill;\n",
    "           border-radius:20px;\n",
    "           background-color:white;\n",
    "           font-size:200%;\n",
    "           font-family: Calibri;\n",
    "           color:black;\n",
    "           text-shadow: 1px 1px 2px black;\n",
    "           box-shadow: 10px 7px 4.5px gray;\n",
    "           letter-spacing:0.5px;\n",
    "            margin: 15px 15px 15px 15px'><h2>📥 2. Data Loading, Formatting and Some Parameters</h2></div>"
   ]
  },
  {
   "cell_type": "markdown",
   "id": "57be614e",
   "metadata": {
    "papermill": {
     "duration": 0.008788,
     "end_time": "2023-11-23T04:55:28.360195",
     "exception": false,
     "start_time": "2023-11-23T04:55:28.351407",
     "status": "completed"
    },
    "tags": []
   },
   "source": [
    "<div style=\"margin: 0px 0px 0px 0px;\n",
    "            border-style: ridge;\n",
    "            border-width: 0px;\n",
    "            border-left-width: 5px;\n",
    "            padding-left: 10px;\">There are only 2 classes: <b>focus</b> and <b>blur</b>\n",
    "File \"metadata.csv\" contains the file path location of each image and their labels. Images will be resized in process of loading. The size is stored in the variable <i>img_size</i>.</div>"
   ]
  },
  {
   "cell_type": "code",
   "execution_count": null,
   "id": "98395838",
   "metadata": {
    "execution": {
     "iopub.execute_input": "2023-11-23T04:55:28.380559Z",
     "iopub.status.busy": "2023-11-23T04:55:28.379599Z",
     "iopub.status.idle": "2023-11-23T04:56:32.699583Z",
     "shell.execute_reply": "2023-11-23T04:56:32.698142Z"
    },
    "papermill": {
     "duration": 64.342428,
     "end_time": "2023-11-23T04:56:32.711502",
     "exception": false,
     "start_time": "2023-11-23T04:55:28.369074",
     "status": "completed"
    },
    "tags": []
   },
   "outputs": [],
   "source": [
    "images_path = r'.\\blur-detection-using-cnn\\dataset\\Images'\n",
    "\n",
    "labels_df = pd.read_csv(r'.\\blur-detection-using-cnn\\dataset\\metadata.csv')\n",
    "print('\\n\\nlabels dataframe: \\n', labels_df.head(), '\\n\\n')\n",
    "\n",
    "class_names = ('blur','focus')\n",
    "num_classes = len(class_names)\n",
    "\n",
    "img_size = (128, 128, 3)\n",
    "\n",
    "print(f'{num_classes} classes: {class_names}\\nimage size: {img_size}')\n",
    "\n",
    "labels = []\n",
    "images = []\n",
    "for image in labels_df.iloc:\n",
    "    image_path = os.path.join(images_path, image[0])\n",
    "    image_label = image[1]\n",
    "    \n",
    "    loaded_image = cv2.imread(image_path, cv2.IMREAD_COLOR)\n",
    "    \n",
    "    if loaded_image is not None and loaded_image.size != 0:\n",
    "        resized_image = cv2.resize(loaded_image, img_size[0:2])[:, :, ::-1]\n",
    "        images.append(np.asarray(resized_image))\n",
    "        \n",
    "        # labels will be in the form of a vector: [0, 1] or [1, 0]\n",
    "        label = np.zeros(num_classes)\n",
    "        label[image_label] = 1\n",
    "        labels.append(label)\n",
    "    else:\n",
    "        print(f\"Failed to load or empty image: {image_path}\")\n",
    "\n",
    "labels = np.asarray(labels)\n",
    "images = np.asarray(images)\n",
    "\n",
    "print(f'\\nlabels shape: {labels.shape}')\n",
    "print(f'images shape: {images.shape}')\n",
    "\n"
   ]
  },
  {
   "cell_type": "markdown",
   "id": "407cac5e",
   "metadata": {
    "papermill": {
     "duration": 0.008743,
     "end_time": "2023-11-23T04:56:32.729528",
     "exception": false,
     "start_time": "2023-11-23T04:56:32.720785",
     "status": "completed"
    },
    "tags": []
   },
   "source": [
    "<div style='padding: 4px;\n",
    "            padding-left: 7px;\n",
    "           display:fill;\n",
    "           border-radius:20px;\n",
    "           background-color:white;\n",
    "           font-size:200%;\n",
    "           font-family: Calibri;\n",
    "           color:black;\n",
    "           text-shadow: 1px 1px 2px black;\n",
    "           box-shadow: 10px 7px 4.5px gray;\n",
    "           letter-spacing:0.5px;margin: 15px 15px 15px 15px'><h2>🏞️ 3. Data Visualisation</h2></div>"
   ]
  },
  {
   "cell_type": "code",
   "execution_count": null,
   "id": "aee9c01f",
   "metadata": {
    "execution": {
     "iopub.execute_input": "2023-11-23T04:56:32.750112Z",
     "iopub.status.busy": "2023-11-23T04:56:32.749603Z",
     "iopub.status.idle": "2023-11-23T04:56:34.240531Z",
     "shell.execute_reply": "2023-11-23T04:56:34.238892Z"
    },
    "papermill": {
     "duration": 1.519348,
     "end_time": "2023-11-23T04:56:34.257965",
     "exception": false,
     "start_time": "2023-11-23T04:56:32.738617",
     "status": "completed"
    },
    "tags": []
   },
   "outputs": [],
   "source": [
    "# Display 16 pictures from the dataset\n",
    "fig, axs = plt.subplots(4, 4, figsize=(10, 10))\n",
    "\n",
    "for x in range(4):\n",
    "    for y in range(4):\n",
    "        i = randint(0, len(images) - 1)  # Generate a random index within the bounds\n",
    "\n",
    "        axs[x][y].imshow(images[i])\n",
    "\n",
    "        # Delete x and y ticks and set x label as picture label\n",
    "        axs[x][y].set_xticks([])\n",
    "        axs[x][y].set_yticks([])\n",
    "        axs[x][y].set_xlabel(class_names[np.argmax(labels[i])])\n",
    "\n",
    "plt.show()"
   ]
  },
  {
   "cell_type": "markdown",
   "id": "8ca4a9a4",
   "metadata": {
    "papermill": {
     "duration": 0.03069,
     "end_time": "2023-11-23T04:56:34.319515",
     "exception": false,
     "start_time": "2023-11-23T04:56:34.288825",
     "status": "completed"
    },
    "tags": []
   },
   "source": [
    "<div style='padding: 4px;\n",
    "            padding-left: 7px;\n",
    "           display:fill;\n",
    "           border-radius:20px;\n",
    "           background-color:white;\n",
    "           font-size:200%;\n",
    "           font-family: Calibri;\n",
    "           color:black;\n",
    "           text-shadow: 1px 1px 2px black;\n",
    "           box-shadow: 10px 7px 4.5px gray;\n",
    "           letter-spacing:0.5px;margin: 15px 15px 15px 15px'><h2>🪓 4. Train/Validation Split</h2></div>"
   ]
  },
  {
   "cell_type": "markdown",
   "id": "732a50d0",
   "metadata": {
    "papermill": {
     "duration": 0.030162,
     "end_time": "2023-11-23T04:56:34.382251",
     "exception": false,
     "start_time": "2023-11-23T04:56:34.352089",
     "status": "completed"
    },
    "tags": []
   },
   "source": [
    "<div style=\"margin: 0px 0px 0px 0px;\n",
    "            border-style: ridge;\n",
    "            border-width: 0px;\n",
    "            border-left-width: 5px;\n",
    "            padding-left: 10px;\">Data will be split into training and validation category.</div>"
   ]
  },
  {
   "cell_type": "code",
   "execution_count": null,
   "id": "397240a5",
   "metadata": {
    "execution": {
     "iopub.execute_input": "2023-11-23T04:56:34.446408Z",
     "iopub.status.busy": "2023-11-23T04:56:34.445910Z",
     "iopub.status.idle": "2023-11-23T04:56:34.458769Z",
     "shell.execute_reply": "2023-11-23T04:56:34.457004Z"
    },
    "papermill": {
     "duration": 0.0484,
     "end_time": "2023-11-23T04:56:34.461602",
     "exception": false,
     "start_time": "2023-11-23T04:56:34.413202",
     "status": "completed"
    },
    "tags": []
   },
   "outputs": [],
   "source": [
    "X_train, X_val, y_train, y_val = train_test_split(images, labels, test_size=0.1, random_state=42)\n",
    "\n",
    "print(f'train images shape: {X_train.shape}\\ntrain labels shape: {y_train.shape}\\n\\nvalidation images shape: {X_val.shape}\\nvalidation labels shape: {y_val.shape}\\n')"
   ]
  },
  {
   "cell_type": "markdown",
   "id": "b700cccb",
   "metadata": {
    "papermill": {
     "duration": 0.031359,
     "end_time": "2023-11-23T04:56:34.524481",
     "exception": false,
     "start_time": "2023-11-23T04:56:34.493122",
     "status": "completed"
    },
    "tags": []
   },
   "source": [
    "<div style='padding: 4px;\n",
    "            padding-left: 7px;\n",
    "           display:fill;\n",
    "           border-radius:20px;\n",
    "           background-color:white;\n",
    "           font-size:200%;\n",
    "           font-family: Calibri;\n",
    "           color:black;\n",
    "           text-shadow: 1px 1px 2px black;\n",
    "           box-shadow: 10px 7px 4.5px gray;\n",
    "           letter-spacing:0.5px;margin: 15px 15px 15px 15px'><h2>➕ 5. Data Augmentation</h2></div>"
   ]
  },
  {
   "cell_type": "markdown",
   "id": "46090728",
   "metadata": {
    "papermill": {
     "duration": 0.030017,
     "end_time": "2023-11-23T04:56:34.584872",
     "exception": false,
     "start_time": "2023-11-23T04:56:34.554855",
     "status": "completed"
    },
    "tags": []
   },
   "source": [
    "<div style=\"margin: 0px 0px 0px 0px;\n",
    "            border-style: ridge;\n",
    "            border-width: 0px;\n",
    "            border-left-width: 5px;\n",
    "            padding-left: 10px;\">The dataset is small, so use data augmentation.</div>"
   ]
  },
  {
   "cell_type": "code",
   "execution_count": null,
   "id": "a2c2c75d",
   "metadata": {
    "execution": {
     "iopub.execute_input": "2023-11-23T04:56:34.647534Z",
     "iopub.status.busy": "2023-11-23T04:56:34.647023Z",
     "iopub.status.idle": "2023-11-23T04:56:34.676245Z",
     "shell.execute_reply": "2023-11-23T04:56:34.674714Z"
    },
    "papermill": {
     "duration": 0.064073,
     "end_time": "2023-11-23T04:56:34.679369",
     "exception": false,
     "start_time": "2023-11-23T04:56:34.615296",
     "status": "completed"
    },
    "tags": []
   },
   "outputs": [],
   "source": [
    "# ImageDataGenerator for train images\n",
    "train_images_generator = tf.keras.preprocessing.image.ImageDataGenerator(shear_range=0.3,\n",
    "                                                                         rotation_range=15,\n",
    "                                                                         zoom_range=0.3,\n",
    "                                                                         vertical_flip=True, \n",
    "                                                                         horizontal_flip=True)\n",
    "train_images_generator = train_images_generator.flow(X_train, y=y_train)\n",
    "\n",
    "# ImageDataGenerator for validation images\n",
    "validation_images_generator = tf.keras.preprocessing.image.ImageDataGenerator(vertical_flip=True, \n",
    "                                                                              horizontal_flip=True)\n",
    "validation_images_generator = validation_images_generator.flow(X_val, y=y_val)"
   ]
  },
  {
   "cell_type": "markdown",
   "id": "3e969859",
   "metadata": {
    "papermill": {
     "duration": 0.029845,
     "end_time": "2023-11-23T04:56:34.739076",
     "exception": false,
     "start_time": "2023-11-23T04:56:34.709231",
     "status": "completed"
    },
    "tags": []
   },
   "source": [
    "<div style='padding: 4px;\n",
    "            padding-left: 7px;\n",
    "           display:fill;\n",
    "           border-radius:20px;\n",
    "           background-color:white;\n",
    "           font-size:200%;\n",
    "           font-family: Calibri;\n",
    "           color:black;\n",
    "           text-shadow: 1px 1px 2px black;\n",
    "           box-shadow: 10px 7px 4.5px gray;\n",
    "           letter-spacing:0.5px;margin: 15px 15px 15px 15px'><h2>6. CNN Model</h2></div>"
   ]
  },
  {
   "cell_type": "markdown",
   "id": "510cf794",
   "metadata": {
    "papermill": {
     "duration": 0.030797,
     "end_time": "2023-11-23T04:56:34.800438",
     "exception": false,
     "start_time": "2023-11-23T04:56:34.769641",
     "status": "completed"
    },
    "tags": []
   },
   "source": [
    "<div style=\"margin: 0px 0px 0px 0px;\n",
    "            border-style: ridge;\n",
    "            border-width: 0px;\n",
    "            border-left-width: 5px;\n",
    "            padding-left: 10px;\">The cnn_model will consist of an input <i>rescaling layer</i>, 3 <i>convolution layers blocks</i> and 4 <i>dense layers</i> after them. Input <i>rescaling layer</i>, which converts the values into a format from 0 to 1. The <i>block of convolution layers</i> contains 2 <i>convolution layers</i> and 1 <i>max pooling layer</i> after them (+ <i>global average pooling</i> if it is a jump from <i>convolutional layers</i> to <i>dense</i>). And the output <i>dense layer</i> contains as many neurons as there are classes.</div>"
   ]
  },
  {
   "cell_type": "code",
   "execution_count": null,
   "id": "cbc15f34",
   "metadata": {
    "execution": {
     "iopub.execute_input": "2023-11-23T04:56:34.864944Z",
     "iopub.status.busy": "2023-11-23T04:56:34.864445Z",
     "iopub.status.idle": "2023-11-23T04:56:34.882722Z",
     "shell.execute_reply": "2023-11-23T04:56:34.881396Z"
    },
    "papermill": {
     "duration": 0.05486,
     "end_time": "2023-11-23T04:56:34.885679",
     "exception": false,
     "start_time": "2023-11-23T04:56:34.830819",
     "status": "completed"
    },
    "tags": []
   },
   "outputs": [],
   "source": [
    "def get_model():\n",
    "    cnn_model = tf.keras.Sequential()\n",
    "\n",
    "    # Inputs and rescaling\n",
    "    cnn_model.add(tf.keras.layers.Rescaling(scale=1. / 255, input_shape=(img_size[0], img_size[1], img_size[2])))\n",
    "\n",
    "    # Convolutional block 1\n",
    "    cnn_model.add(tf.keras.layers.Conv2D(64, (3, 3), activation='relu', padding='same'))\n",
    "    cnn_model.add(tf.keras.layers.Conv2D(64, (3, 3), activation='relu', padding='same'))\n",
    "    cnn_model.add(tf.keras.layers.MaxPooling2D(pool_size=2))\n",
    "\n",
    "    # Convolutional block 2\n",
    "    cnn_model.add(tf.keras.layers.Conv2D(128, (2, 2), activation='relu', padding='same'))\n",
    "    cnn_model.add(tf.keras.layers.Conv2D(128, (2, 2), activation='relu', padding='same'))\n",
    "    cnn_model.add(tf.keras.layers.MaxPooling2D(pool_size=2))\n",
    "\n",
    "    # Convolutional block 3\n",
    "    cnn_model.add(tf.keras.layers.Conv2D(256, (2, 2), activation='relu', padding='same'))\n",
    "    cnn_model.add(tf.keras.layers.Conv2D(256, (2, 2), activation='relu', padding='same'))\n",
    "    cnn_model.add(tf.keras.layers.MaxPooling2D(pool_size=2))\n",
    "    cnn_model.add(tf.keras.layers.GlobalAveragePooling2D())\n",
    "\n",
    "    # Dense block\n",
    "    cnn_model.add(tf.keras.layers.Dense(512, activation='relu'))\n",
    "    cnn_model.add(tf.keras.layers.Dense(256, activation='relu'))\n",
    "    cnn_model.add(tf.keras.layers.Dense(128, activation='relu'))\n",
    "    cnn_model.add(tf.keras.layers.Dense(64, activation='relu'))\n",
    "    cnn_model.add(tf.keras.layers.Dense(num_classes, activation='softmax'))\n",
    "\n",
    "\n",
    "    cnn_model.compile(optimizer='Adam', loss='categorical_crossentropy', metrics=['accuracy'])\n",
    "\n",
    "    return cnn_model"
   ]
  },
  {
   "cell_type": "markdown",
   "id": "4606ea5f",
   "metadata": {
    "papermill": {
     "duration": 0.030372,
     "end_time": "2023-11-23T04:56:34.946610",
     "exception": false,
     "start_time": "2023-11-23T04:56:34.916238",
     "status": "completed"
    },
    "tags": []
   },
   "source": [
    "<div style='padding: 4px;\n",
    "            padding-left: 7px;\n",
    "           display:fill;\n",
    "           border-radius:20px;\n",
    "           background-color:white;\n",
    "           font-size:200%;\n",
    "           font-family: Calibri;\n",
    "           color:black;\n",
    "           text-shadow: 1px 1px 2px black;\n",
    "           box-shadow: 10px 7px 4.5px gray;\n",
    "           letter-spacing:0.5px;margin: 15px 15px 15px 15px'><h2>📈 7. Training and Results</h2></div>"
   ]
  },
  {
   "cell_type": "code",
   "execution_count": null,
   "id": "cbcd8bfd",
   "metadata": {
    "execution": {
     "iopub.execute_input": "2023-11-23T04:56:35.012152Z",
     "iopub.status.busy": "2023-11-23T04:56:35.010671Z",
     "iopub.status.idle": "2023-11-23T04:56:35.016722Z",
     "shell.execute_reply": "2023-11-23T04:56:35.015648Z"
    },
    "papermill": {
     "duration": 0.042043,
     "end_time": "2023-11-23T04:56:35.019424",
     "exception": false,
     "start_time": "2023-11-23T04:56:34.977381",
     "status": "completed"
    },
    "tags": []
   },
   "outputs": [],
   "source": [
    "# creating ModelChecpoint callback\n",
    "checkpoint_callback = ModelCheckpoint('cnn_model/model{epoch:02d}')"
   ]
  },
  {
   "cell_type": "code",
   "execution_count": null,
   "id": "e1505ce7",
   "metadata": {
    "_kg_hide-input": false,
    "_kg_hide-output": true,
    "execution": {
     "iopub.execute_input": "2023-11-23T04:56:35.083135Z",
     "iopub.status.busy": "2023-11-23T04:56:35.081607Z",
     "iopub.status.idle": "2023-11-23T05:18:49.096501Z",
     "shell.execute_reply": "2023-11-23T05:18:49.094881Z"
    },
    "papermill": {
     "duration": 1334.050498,
     "end_time": "2023-11-23T05:18:49.100135",
     "exception": false,
     "start_time": "2023-11-23T04:56:35.049637",
     "status": "completed"
    },
    "tags": []
   },
   "outputs": [],
   "source": [
    "cnn_model=get_model()\n",
    "history = cnn_model.fit(train_images_generator, epochs=100, verbose=1, validation_data=validation_images_generator, callbacks=[checkpoint_callback])"
   ]
  },
  {
   "cell_type": "markdown",
   "id": "327819e0",
   "metadata": {
    "papermill": {
     "duration": 0.057448,
     "end_time": "2023-11-23T05:18:49.215025",
     "exception": false,
     "start_time": "2023-11-23T05:18:49.157577",
     "status": "completed"
    },
    "tags": []
   },
   "source": [
    "<div style=\"margin: 0px 0px 0px 0px;\n",
    "            border-style: ridge;\n",
    "            border-width: 0px;\n",
    "            border-left-width: 5px;\n",
    "            padding-left: 10px;\">Epoch is one entire passing of training dataset through the algorithm. Withe ach epoch we calculate the accuracy and loss and find the model in the best condition later. For example: load model with highest accuracy eg: model200</div> "
   ]
  },
  {
   "cell_type": "code",
   "execution_count": null,
   "id": "1c899c6c",
   "metadata": {
    "execution": {
     "iopub.execute_input": "2023-11-23T05:18:49.332987Z",
     "iopub.status.busy": "2023-11-23T05:18:49.331814Z",
     "iopub.status.idle": "2023-11-23T05:18:50.372964Z",
     "shell.execute_reply": "2023-11-23T05:18:50.371381Z"
    },
    "papermill": {
     "duration": 1.103124,
     "end_time": "2023-11-23T05:18:50.376241",
     "exception": false,
     "start_time": "2023-11-23T05:18:49.273117",
     "status": "completed"
    },
    "tags": []
   },
   "outputs": [],
   "source": [
    "# loading best model\n",
    "cnn_model = tf.keras.models.load_model(r'.\\blur-detection-using-cnn\\cnn_model\\model100')"
   ]
  },
  {
   "cell_type": "markdown",
   "id": "d3b0069b",
   "metadata": {
    "papermill": {
     "duration": 0.05859,
     "end_time": "2023-11-23T05:18:50.492386",
     "exception": false,
     "start_time": "2023-11-23T05:18:50.433796",
     "status": "completed"
    },
    "tags": []
   },
   "source": [
    "<div style='padding: 4px;\n",
    "            padding-left: 7px;\n",
    "           display:fill;\n",
    "           border-radius:20px;\n",
    "           background-color:white;\n",
    "           font-size:200%;\n",
    "           font-family: Calibri;\n",
    "           color:black;\n",
    "           text-shadow: 1px 1px 2px black;\n",
    "           box-shadow: 10px 7px 4.5px gray;\n",
    "           letter-spacing:0.5px;margin: 15px 15px 15px 15px'><h2>📈 8. Accuracy and Loss Plot</h2></div>"
   ]
  },
  {
   "cell_type": "code",
   "execution_count": null,
   "id": "22e1b82e",
   "metadata": {
    "execution": {
     "iopub.execute_input": "2023-11-23T05:18:50.609826Z",
     "iopub.status.busy": "2023-11-23T05:18:50.609371Z",
     "iopub.status.idle": "2023-11-23T05:18:50.616794Z",
     "shell.execute_reply": "2023-11-23T05:18:50.615346Z"
    },
    "papermill": {
     "duration": 0.068587,
     "end_time": "2023-11-23T05:18:50.619347",
     "exception": false,
     "start_time": "2023-11-23T05:18:50.550760",
     "status": "completed"
    },
    "tags": []
   },
   "outputs": [],
   "source": [
    "accuracy = history.history['accuracy']\n",
    "val_accuracy = history.history['val_accuracy']\n",
    "\n",
    "loss = history.history['loss']\n",
    "val_loss = history.history['val_loss']\n",
    "\n",
    "epochs = range(len(accuracy))"
   ]
  },
  {
   "cell_type": "code",
   "execution_count": null,
   "id": "105a2f6c",
   "metadata": {
    "execution": {
     "iopub.execute_input": "2023-11-23T05:18:50.739368Z",
     "iopub.status.busy": "2023-11-23T05:18:50.738488Z",
     "iopub.status.idle": "2023-11-23T05:18:51.304479Z",
     "shell.execute_reply": "2023-11-23T05:18:51.302469Z"
    },
    "papermill": {
     "duration": 0.63318,
     "end_time": "2023-11-23T05:18:51.308485",
     "exception": false,
     "start_time": "2023-11-23T05:18:50.675305",
     "status": "completed"
    },
    "tags": []
   },
   "outputs": [],
   "source": [
    "plt.figure()\n",
    "plt.plot(epochs, accuracy, label='Training Accuracy')\n",
    "plt.plot(epochs, loss, label='Training Loss')\n",
    "plt.legend()\n",
    "plt.title('Training Accuracy and Loss')\n",
    "\n",
    "plt.figure()\n",
    "plt.plot(epochs, val_accuracy, label='Validation Accuracy')\n",
    "plt.plot(epochs, val_loss, label='Validation Loss')\n",
    "plt.legend()\n",
    "plt.title('Validation Accuracy and Loss')\n",
    "\n",
    "plt.show()"
   ]
  },
  {
   "cell_type": "markdown",
   "id": "cb2af197",
   "metadata": {
    "papermill": {
     "duration": 0.058657,
     "end_time": "2023-11-23T05:18:51.429604",
     "exception": false,
     "start_time": "2023-11-23T05:18:51.370947",
     "status": "completed"
    },
    "tags": []
   },
   "source": [
    "<div style='padding: 4px;\n",
    "            padding-left: 7px;\n",
    "           display:fill;\n",
    "           border-radius:20px;\n",
    "           background-color:white;\n",
    "           font-size:200%;\n",
    "           font-family: Calibri;\n",
    "           color:black;\n",
    "           text-shadow: 1px 1px 2px black;\n",
    "           box-shadow: 10px 7px 4.5px gray;\n",
    "           letter-spacing:0.5px;margin: 15px 15px 15px 15px'><h2>9. Predictions</h2></div>"
   ]
  },
  {
   "cell_type": "code",
   "execution_count": null,
   "id": "b1118203",
   "metadata": {
    "execution": {
     "iopub.execute_input": "2023-11-23T05:18:51.550666Z",
     "iopub.status.busy": "2023-11-23T05:18:51.549252Z",
     "iopub.status.idle": "2023-11-23T05:18:55.315742Z",
     "shell.execute_reply": "2023-11-23T05:18:55.313911Z"
    },
    "papermill": {
     "duration": 3.847379,
     "end_time": "2023-11-23T05:18:55.335088",
     "exception": false,
     "start_time": "2023-11-23T05:18:51.487709",
     "status": "completed"
    },
    "tags": []
   },
   "outputs": [],
   "source": [
    "fig, axs = plt.subplots(5, 4, figsize=(12, 12))\n",
    "\n",
    "i = 0\n",
    "for x in range(5):\n",
    "    for y in range(4):\n",
    "        prediction = cnn_model.predict(X_val[i][None, ...], verbose=0)[0]\n",
    "        \n",
    "        axs[x][y].set_xticks([])\n",
    "        axs[x][y].set_yticks([])\n",
    "        \n",
    "        if np.argmax(prediction) != np.argmax(y_val[i]):   \n",
    "            axs[x][y].set_xlabel(f'prediction: {class_names[np.argmax(prediction)]} | label: {class_names[np.argmax(y_val[i])]}', color='red')\n",
    "        else:\n",
    "            axs[x][y].set_xlabel(f'prediction: {class_names[np.argmax(prediction)]} | label: {class_names[np.argmax(y_val[i])]}')\n",
    "        \n",
    "        axs[x][y].imshow(X_val[i])\n",
    "        \n",
    "        i += 1\n",
    "plt.show()"
   ]
  }
 ],
 "metadata": {
  "kaggle": {
   "accelerator": "none",
   "dataSources": [
    {
     "datasetId": 3942729,
     "sourceId": 6860255,
     "sourceType": "datasetVersion"
    },
    {
     "datasetId": 3950566,
     "sourceId": 7023791,
     "sourceType": "datasetVersion"
    },
    {
     "datasetId": 3942789,
     "sourceId": 7023810,
     "sourceType": "datasetVersion"
    },
    {
     "datasetId": 3942763,
     "sourceId": 7023815,
     "sourceType": "datasetVersion"
    },
    {
     "datasetId": 3949067,
     "sourceId": 7027396,
     "sourceType": "datasetVersion"
    },
    {
     "datasetId": 3949223,
     "sourceId": 7027484,
     "sourceType": "datasetVersion"
    }
   ],
   "dockerImageVersionId": 30407,
   "isGpuEnabled": false,
   "isInternetEnabled": false,
   "language": "python",
   "sourceType": "notebook"
  },
  "kernelspec": {
   "display_name": "Python 3",
   "language": "python",
   "name": "python3"
  },
  "language_info": {
   "codemirror_mode": {
    "name": "ipython",
    "version": 3
   },
   "file_extension": ".py",
   "mimetype": "text/x-python",
   "name": "python",
   "nbconvert_exporter": "python",
   "pygments_lexer": "ipython3",
   "version": "3.10.11"
  },
  "papermill": {
   "default_parameters": {},
   "duration": 1435.521496,
   "end_time": "2023-11-23T05:18:58.885731",
   "environment_variables": {},
   "exception": null,
   "input_path": "__notebook__.ipynb",
   "output_path": "__notebook__.ipynb",
   "parameters": {},
   "start_time": "2023-11-23T04:55:03.364235",
   "version": "2.4.0"
  }
 },
 "nbformat": 4,
 "nbformat_minor": 5
}
